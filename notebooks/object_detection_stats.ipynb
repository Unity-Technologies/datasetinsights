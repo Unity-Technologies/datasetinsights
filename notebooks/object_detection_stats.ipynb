{
 "cells": [
  {
   "cell_type": "code",
   "execution_count": null,
   "id": "17c4bdcf",
   "metadata": {},
   "outputs": [],
   "source": [
    "import json\n",
    "from datasetinsights.stats.calculation import (\n",
    "    convert_coco_annotations_to_df,\n",
    "    get_bbox_heatmap,\n",
    "    get_bbox_per_img_dict,\n",
    "    get_bbox_relative_size_list,\n",
    "    get_visible_keypoints_dict,\n",
    ")\n",
    "from datasetinsights.stats.visualization.constants import (\n",
    "    COCO_KEYPOINTS,\n",
    "    COCO_SKELETON,\n",
    ")\n",
    "\n",
    "import numpy as np\n",
    "import pandas as pd\n",
    "import matplotlib.pyplot as plt\n",
    "import matplotlib.patches as mpatches\n",
    "import seaborn as sns\n",
    "from matplotlib import collections as mc\n",
    "from matplotlib import cm, colors\n",
    "from seaborn.distributions import _DistributionPlotter as db"
   ]
  },
  {
   "cell_type": "code",
   "execution_count": null,
   "id": "456b58c1",
   "metadata": {},
   "outputs": [],
   "source": [
    "sns.set_theme(style=\"ticks\", font_scale=1.25, color_codes=True, palette='colorblind', font='sans-serif', context='paper', rc={\"lines.linewidth\": 1.5})\n",
    "\n",
    "cmap_ = plt.get_cmap(\"twilight_shifted_r\")\n",
    "colors = cmap_(np.linspace(0, 1, 20))\n",
    "COLORS = [colors[5], colors[15]]\n",
    "cmap_ = plt.get_cmap(\"BuPu\")\n",
    "colors = cmap_(np.linspace(0, 1, 20))\n",
    "COLORS = COLORS + [colors[15], colors[5]]"
   ]
  },
  {
   "cell_type": "code",
   "execution_count": null,
   "id": "4bc528fc",
   "metadata": {},
   "outputs": [],
   "source": [
    "json_file_a = \"\"\n",
    "coco_a = convert_coco_annotations_to_df(json_file_a)\n",
    "json_file_b = \"\"\n",
    "coco_b = convert_coco_annotations_to_df(json_file_b)\n",
    "coco_df_list = [coco_a, coco_b]"
   ]
  },
  {
   "cell_type": "code",
   "execution_count": null,
   "id": "d921358c",
   "metadata": {},
   "outputs": [],
   "source": [
    "coco_b.head()"
   ]
  },
  {
   "cell_type": "code",
   "execution_count": null,
   "id": "2e8314a0",
   "metadata": {},
   "outputs": [],
   "source": [
    "def plot_bbox_heatmap(bbox_heatmap):\n",
    "    bbox_heatmap_norm = bbox_heatmap / bbox_heatmap.max()\n",
    "    fig, ax = plt.subplots(dpi=100, figsize=(8,8))\n",
    "    pcm = ax.imshow(bbox_heatmap_norm[:,:,0], cmap=\"plasma\", )\n",
    "\n",
    "    plt.show()"
   ]
  },
  {
   "cell_type": "code",
   "execution_count": null,
   "id": "de535e01",
   "metadata": {},
   "outputs": [],
   "source": [
    "bbox_heatmap = get_bbox_heatmap(coco_a)\n",
    "plot_bbox_heatmap(bbox_heatmap)"
   ]
  },
  {
   "cell_type": "code",
   "execution_count": null,
   "id": "260640fd",
   "metadata": {},
   "outputs": [],
   "source": [
    "def process_bbox_size(coco_data_list):\n",
    "    data_hist_list = []\n",
    "    for coco_data in coco_data_list:\n",
    "        weight = [1/len(coco_data)]*len(coco_data)\n",
    "        data_hist = plt.hist(coco_data, weights=weight, bins=50, edgecolor = 'black', range=(0,0.05))\n",
    "        data_hist_list.append(data_hist)\n",
    "    plt.close()\n",
    "    return data_hist_list\n",
    "\n",
    "def compare_bbox_size_distribution(coco_data_list):\n",
    "    data_hist_list = process_bbox_size(coco_data_list)\n",
    "    fig, ax = plt.subplots(1, 1, dpi=100,)\n",
    "    fig.set_size_inches(16, 9)\n",
    "    for i, data_hist in enumerate(data_hist_list):\n",
    "        ax.plot(data_hist[1][1:],data_hist[0],  marker='o', linestyle='dashed',label=i, color=COLORS[i], linewidth=4, markeredgewidth=4)\n",
    "\n",
    "    # where some data has already been plotted to ax\n",
    "    handles, labels = ax.get_legend_handles_labels()\n",
    "\n",
    "    # manually define a new patch\n",
    "    for i, coco_data in enumerate(coco_data_list):\n",
    "         handles.append(mpatches.Patch(color=COLORS[i], label=i))\n",
    "\n",
    "\n",
    "    plt.legend(handles=handles, fontsize=32)\n",
    "\n",
    "    ax.set_xlabel(\"Bouding Box relative size in an image\", fontsize=32)\n",
    "    ax.set_ylabel(\"Bouding Box Probability\", fontsize=32)\n",
    "    ax.yaxis.set_tick_params(labelsize=32)\n",
    "    ax.xaxis.set_tick_params(labelsize=32)\n",
    "    ax.legend(fontsize=32)\n",
    "\n",
    "\n",
    "    fig.tight_layout()\n",
    "\n",
    "    plt.show()"
   ]
  },
  {
   "cell_type": "code",
   "execution_count": null,
   "id": "4486dab8",
   "metadata": {},
   "outputs": [],
   "source": [
    "coco_data_list = [get_bbox_relative_size_list(df) for df in coco_df_list]\n",
    "compare_bbox_size_distribution(coco_data_list)"
   ]
  },
  {
   "cell_type": "code",
   "execution_count": null,
   "id": "ab9d6df1",
   "metadata": {},
   "outputs": [],
   "source": [
    "def compare_keypoint_probability_in_bbox(coco_data_list):\n",
    "    kpt_dict_keys = []\n",
    "    for key in coco_data_list[0].keys():\n",
    "        key_list = key.split(\"_\")\n",
    "        key_list = [x.capitalize() for x in key_list]\n",
    "        kpt_dict_keys.append(\" \".join(key_list))\n",
    "\n",
    "    labels = kpt_dict_keys\n",
    "\n",
    "    x = 2*np.arange(len(labels))  # the label locations\n",
    "    width = 0.35  # the width of the bars\n",
    "\n",
    "    fig, ax = plt.subplots(dpi=100)\n",
    "    fig.set_size_inches(16, 9)\n",
    "    for i, coco_data in enumerate(coco_data_list):\n",
    "        ax.bar(x + (i-len(coco_data_list)//2)*width, coco_data.values(), width, label=i, color=COLORS[i])\n",
    "\n",
    "    # Add some text for labels, title and custom x-axis tick labels, etc.\n",
    "    ax.set_ylabel('Probability of a keypoint in a bounding box', fontsize=24)\n",
    "    ax.set_xticks(x)\n",
    "    ax.set_xticklabels(labels, fontsize=24, fontweight=\"bold\")\n",
    "    ax.yaxis.set_tick_params(labelsize=24)\n",
    "\n",
    "\n",
    "    #legend_properties = {'weight':'bold'}\n",
    "    #ax.legend(fontsize=15)\n",
    "    plt.legend(fontsize=15, bbox_to_anchor=(0.20, 1.15),)\n",
    "    plt.xticks(rotation=60)\n",
    "\n",
    "    fig.tight_layout()\n",
    "    plt.show()"
   ]
  },
  {
   "cell_type": "code",
   "execution_count": null,
   "id": "89581acd",
   "metadata": {},
   "outputs": [],
   "source": [
    "coco_data_list = [get_visible_keypoints_dict(df.keypoints.values.tolist()) for df in coco_df_list]\n",
    "compare_keypoint_probability_in_bbox(coco_data_list)"
   ]
  },
  {
   "cell_type": "code",
   "execution_count": null,
   "id": "066eda28",
   "metadata": {},
   "outputs": [],
   "source": [
    "def compare_bbox_num_distribution(coco_data_list):\n",
    "    bbox_num_df = pd.DataFrame([coco_data for coco_data in coco_data_list])\n",
    "    bbox_num_df = bbox_num_df.reindex(sorted(bbox_num_df.columns), axis=1)\n",
    "\n",
    "    labels = bbox_num_df.columns.values.tolist()\n",
    "\n",
    "    x = 2*np.arange(len(labels))  # the label locations\n",
    "    width = 0.35  # the width of the bars\n",
    "\n",
    "    fig, ax = plt.subplots(dpi=100)\n",
    "    fig.set_size_inches(18, 10)\n",
    "    for i, coco_data in enumerate(coco_data_list):\n",
    "        ax.bar(x + (i-len(coco_data_list)//2)*width, bbox_num_df.iloc[i].values.tolist(), width, label=i, color=COLORS[i])\n",
    "\n",
    "    # Add some text for labels, title and custom x-axis tick labels, etc.\n",
    "    ax.set_xlabel('Number of bouding box in a single image', fontsize=32)\n",
    "    ax.set_ylabel('Probability of images in dataset', fontsize=32)\n",
    "    ax.yaxis.set_tick_params(labelsize=32)\n",
    "    ax.set_xticks(x)\n",
    "    ax.set_xticklabels(labels, fontsize=32)\n",
    "    ax.legend(fontsize=32)\n",
    "\n",
    "    fig.tight_layout()\n",
    "    plt.show()\n",
    "    "
   ]
  },
  {
   "cell_type": "code",
   "execution_count": null,
   "id": "b3256b62",
   "metadata": {},
   "outputs": [],
   "source": [
    "coco_data_list = [get_bbox_per_img_dict(df) for df in coco_df_list]\n",
    "compare_bbox_num_distribution(coco_data_list)"
   ]
  }
 ],
 "metadata": {
  "kernelspec": {
   "display_name": "Python 3 (ipykernel)",
   "language": "python",
   "name": "python3"
  },
  "language_info": {
   "codemirror_mode": {
    "name": "ipython",
    "version": 3
   },
   "file_extension": ".py",
   "mimetype": "text/x-python",
   "name": "python",
   "nbconvert_exporter": "python",
   "pygments_lexer": "ipython3",
   "version": "3.8.12"
  }
 },
 "nbformat": 4,
 "nbformat_minor": 5
}
