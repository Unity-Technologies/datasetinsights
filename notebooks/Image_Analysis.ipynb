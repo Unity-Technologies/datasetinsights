{
 "cells": [
  {
   "cell_type": "markdown",
   "id": "079cea4d",
   "metadata": {},
   "source": [
    "# Image Analysis for datasets"
   ]
  },
  {
   "cell_type": "markdown",
   "id": "5cdaf71f",
   "metadata": {},
   "source": [
    "This example notebook shows how to use datasetinsights to do image analysis on datasets"
   ]
  },
  {
   "cell_type": "markdown",
   "id": "984325b5",
   "metadata": {},
   "source": [
    "## Variance of Laplacian"
   ]
  },
  {
   "cell_type": "code",
   "execution_count": 1,
   "id": "1100b1e3",
   "metadata": {},
   "outputs": [],
   "source": [
    "import seaborn as sns\n",
    "import matplotlib.pyplot as plt\n",
    "from tqdm import tqdm\n",
    "import numpy as np\n",
    "import os\n",
    "from pycocotools.coco import COCO\n",
    "from datasetinsights.stats.image_analysis import laplacian_img, get_bbox_var_laplacian, get_fg_bg_var_laplacian, get_img_var_laplacian\n"
   ]
  },
  {
   "cell_type": "code",
   "execution_count": 2,
   "id": "9717a89a",
   "metadata": {},
   "outputs": [],
   "source": [
    "annotation_file_path = \"<file-path>\"\n",
    "img_dir_path = \"<img-dir-path>\""
   ]
  },
  {
   "cell_type": "code",
   "execution_count": 3,
   "id": "198d2215",
   "metadata": {},
   "outputs": [
    {
     "name": "stdout",
     "output_type": "stream",
     "text": [
      "loading annotations into memory...\n",
      "Done (t=8.66s)\n",
      "creating index...\n",
      "index created!\n"
     ]
    }
   ],
   "source": [
    "coco = COCO(annotation_file=annotation_file_path)\n",
    "img_ids = coco.getImgIds(catIds=[1])"
   ]
  },
  {
   "cell_type": "code",
   "execution_count": 4,
   "id": "28b2c9b5",
   "metadata": {},
   "outputs": [],
   "source": [
    "bg_vars, fg_vars = [], []"
   ]
  },
  {
   "cell_type": "code",
   "execution_count": 5,
   "id": "cfb2a2dd",
   "metadata": {},
   "outputs": [
    {
     "name": "stderr",
     "output_type": "stream",
     "text": [
      "  0%|                                                                                                                                                                                                         | 0/10000 [00:00<?, ?it/s]/Users/saurav.dhakad/unity/datasetinsights/datasetinsights/stats/image_analysis/laplacian.py:50: RuntimeWarning: Degrees of freedom <= 0 for slice.\n",
      "  return np.nanvar(bbox_var)\n",
      "  2%|████                                                                                                                                                                                           | 212/10000 [00:02<01:39, 97.96it/s]/Users/saurav.dhakad/unity/datasetinsights/datasetinsights/stats/image_analysis/laplacian.py:82: RuntimeWarning: Degrees of freedom <= 0 for slice.\n",
      "  img_var_laplacian = np.nanvar(img_laplacian)\n",
      "100%|█████████████████████████████████████████████████████████████████████████████████████████████████████████████████████████████████████████████████████████████████████████████████████████████| 10000/10000 [01:42<00:00, 97.80it/s]\n"
     ]
    }
   ],
   "source": [
    "for img_id in tqdm(img_ids[:10000]):\n",
    "    img_meta_data = coco.loadImgs(ids=[img_id])\n",
    "    file_name = img_meta_data[0]['file_name']\n",
    "\n",
    "    img_path = os.path.join(img_dir_path, file_name)\n",
    "    laplacian = laplacian_img(img_path)\n",
    "\n",
    "    ann_ids = coco.getAnnIds(imgIds=img_id)\n",
    "    annotations = coco.loadAnns(ann_ids)\n",
    "    bbox_var_lap, img_var_laplacian = get_fg_bg_var_laplacian(laplacian, annotations)\n",
    "\n",
    "    bg_vars.append(img_var_laplacian)\n",
    "    fg_vars.extend(bbox_var_lap)\n",
    "\n"
   ]
  },
  {
   "cell_type": "code",
   "execution_count": 33,
   "id": "ad66281e",
   "metadata": {},
   "outputs": [
    {
     "data": {
      "image/png": "[encoded data removed]",
      "text/plain": [
       "<Figure size 432x288 with 1 Axes>"
      ]
     },
     "metadata": {
      "needs_background": "light"
     },
     "output_type": "display_data"
    }
   ],
   "source": [
    "sns.distplot(bg_vars, hist = True, kde = False,\n",
    "             kde_kws = {'linewidth': 3},\n",
    "             label = \"Background\")\n",
    "plt.legend(prop={'size': 16}, title = '')\n",
    "plt.xlabel('Var of Laplacian')\n",
    "plt.ylabel('Counts')\n",
    "plt.show()"
   ]
  },
  {
   "cell_type": "code",
   "execution_count": 36,
   "id": "adfbac6f",
   "metadata": {},
   "outputs": [
    {
     "data": {
      "image/png": "[encoded data removed]",
      "text/plain": [
       "<Figure size 432x288 with 1 Axes>"
      ]
     },
     "metadata": {
      "needs_background": "light"
     },
     "output_type": "display_data"
    }
   ],
   "source": [
    "sns.distplot(fg_vars, hist = True, kde = False,\n",
    "             kde_kws = {'linewidth': 3},\n",
    "             label = \"Foreground\")\n",
    "plt.legend(prop={'size': 16}, title = '')\n",
    "plt.xlabel('Var of Laplacian')\n",
    "plt.ylabel('Counts')\n",
    "plt.show()"
   ]
  },
  {
   "cell_type": "code",
   "execution_count": null,
   "id": "e26b3b97",
   "metadata": {},
   "outputs": [],
   "source": []
  }
 ],
 "metadata": {
  "kernelspec": {
   "display_name": "Python 3 (ipykernel)",
   "language": "python",
   "name": "python3"
  },
  "language_info": {
   "codemirror_mode": {
    "name": "ipython",
    "version": 3
   },
   "file_extension": ".py",
   "mimetype": "text/x-python",
   "name": "python",
   "nbconvert_exporter": "python",
   "pygments_lexer": "ipython3",
   "version": "3.8.11"
  }
 },
 "nbformat": 4,
 "nbformat_minor": 5
}
