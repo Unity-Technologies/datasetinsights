{
 "cells": [
  {
   "cell_type": "markdown",
   "id": "079cea4d",
   "metadata": {},
   "source": [
    "# Image Analysis for datasets"
   ]
  },
  {
   "cell_type": "markdown",
   "id": "5cdaf71f",
   "metadata": {},
   "source": [
    "This example notebook shows how to use datasetinsights to do image analysis on datasets. Please change the code as per your visulization requirements."
   ]
  },
  {
   "cell_type": "markdown",
   "id": "984325b5",
   "metadata": {},
   "source": [
    "## Variance of Laplacian"
   ]
  },
  {
   "cell_type": "code",
   "execution_count": 15,
   "id": "1100b1e3",
   "metadata": {},
   "outputs": [],
   "source": [
    "import seaborn as sns\n",
    "import matplotlib.pyplot as plt\n",
    "from tqdm import tqdm\n",
    "import numpy as np\n",
    "import os\n",
    "from pycocotools.coco import COCO\n",
    "from datasetinsights.stats.image_analysis import (\n",
    "    get_bbox_var_laplacian,\n",
    "    get_bbox_fg_bg_var_laplacian,\n",
    "    laplacian_img,\n",
    "    get_final_mask,\n",
    "    get_seg_fg_bg_var_laplacian\n",
    ")"
   ]
  },
  {
   "cell_type": "code",
   "execution_count": null,
   "id": "9717a89a",
   "metadata": {},
   "outputs": [],
   "source": [
    "annotation_file_path = \"<file-path>\"\n",
    "img_dir_path = \"<img-dir-path>\""
   ]
  },
  {
   "cell_type": "code",
   "execution_count": null,
   "id": "198d2215",
   "metadata": {},
   "outputs": [],
   "source": [
    "coco = COCO(annotation_file=annotation_file_path)\n",
    "img_ids = coco.getImgIds(catIds=[1])"
   ]
  },
  {
   "cell_type": "markdown",
   "id": "4f87854e",
   "metadata": {},
   "source": [
    "### Calcluating variance according to bbox"
   ]
  },
  {
   "cell_type": "code",
   "execution_count": null,
   "id": "cfb2a2dd",
   "metadata": {},
   "outputs": [],
   "source": [
    "def get_bg_fg_vars(img_ids):\n",
    "    bg_vars, fg_vars, full_img_var = [], [], []\n",
    "    for img_id in tqdm(img_ids):\n",
    "        img_meta_data = coco.loadImgs(ids=[img_id])\n",
    "        file_name = img_meta_data[0]['file_name']\n",
    "\n",
    "        img_path = os.path.join(img_dir_path, file_name)\n",
    "        laplacian = laplacian_img(img_path)\n",
    "        full_img_var.append(laplacian)\n",
    "\n",
    "        ann_ids = coco.getAnnIds(imgIds=img_id)\n",
    "        annotations = coco.loadAnns(ann_ids)\n",
    "        bbox_var_lap, img_var_laplacian = get_bbox_fg_bg_var_laplacian(laplacian, annotations)\n",
    "\n",
    "        bg_vars.append(img_var_laplacian)\n",
    "        fg_vars.extend(bbox_var_lap)\n",
    "        \n",
    "        return bg_vars, fg_vars, full_img_var\n",
    "\n"
   ]
  },
  {
   "cell_type": "code",
   "execution_count": null,
   "id": "28b2c9b5",
   "metadata": {},
   "outputs": [],
   "source": [
    "bg_vars, fg_vars, full_img_var = get_bg_fg_vars(img_ids)\n",
    "#Check for NANs or 0s, if present remove them"
   ]
  },
  {
   "cell_type": "markdown",
   "id": "e8e3df62",
   "metadata": {},
   "source": [
    "#### Box Plot Code"
   ]
  },
  {
   "cell_type": "code",
   "execution_count": null,
   "id": "54b3cc00",
   "metadata": {},
   "outputs": [],
   "source": [
    "box_plot_data=[bg_vars_a, bg_vars_b]\n",
    "dataset_name=['PSP-A','PSP-B']\n",
    "\n",
    "fig, ax = plt.subplots(dpi=100, figsize=(18,10))\n",
    "\n",
    "box = ax.boxplot(box_plot_data,vert=0,patch_artist=True,labels=dataset_name, \n",
    "          showmeans=True, meanline=True, showfliers=False,)\n",
    " \n",
    "colors = ['red', 'blue',]\n",
    "for patch, color in zip(box['boxes'], colors):\n",
    "    patch.set_facecolor(color)\n",
    "    patch.set_alpha(0.55)\n",
    "\n",
    "for median in box['medians']:\n",
    "    median.set_color('black')\n",
    "for i, means in enumerate(box['means']):\n",
    "    means.set_color('black')\n",
    "    x, y = means.get_xydata()[1]\n",
    "    mean = np.array(box_plot_data[i]).mean()\n",
    "    text = ' μ={:.2f}'.format(mean)\n",
    "    ax.annotate(text, xy=(x, y+0.05), fontsize=15)\n",
    "    \n",
    "\n",
    "plt.plot([], [], '--', linewidth=1, color='black', label='Mean')\n",
    "plt.plot([], [], '-', linewidth=1, color='black', label='Median')\n",
    "\n",
    "plt.legend(fontsize=15)\n",
    "\n",
    "\n",
    "plt.xticks(fontsize=15 )\n",
    "plt.yticks(fontsize=15 )\n",
    "plt.xscale('log')\n",
    "plt.minorticks_off()\n",
    "plt.xlabel(\"Var of Laplacian of background in log scale\", fontsize=18)\n",
    "plt.ylabel(\"Dataset\", fontsize=18)\n",
    "plt.show()"
   ]
  },
  {
   "cell_type": "code",
   "execution_count": null,
   "id": "ad66281e",
   "metadata": {},
   "outputs": [],
   "source": [
    "sns.distplot(bg_vars, hist = True, kde = False,\n",
    "             kde_kws = {'linewidth': 3},\n",
    "             label = \"Background\")\n",
    "plt.legend(prop={'size': 16}, title = '')\n",
    "plt.xlabel('Var of Laplacian')\n",
    "plt.ylabel('Counts')\n",
    "plt.show()"
   ]
  },
  {
   "cell_type": "code",
   "execution_count": null,
   "id": "adfbac6f",
   "metadata": {},
   "outputs": [],
   "source": [
    "sns.distplot(fg_vars, hist = True, kde = False,\n",
    "             kde_kws = {'linewidth': 3},\n",
    "             label = \"Foreground\")\n",
    "plt.legend(prop={'size': 16}, title = '')\n",
    "plt.xlabel('Var of Laplacian')\n",
    "plt.ylabel('Counts')\n",
    "plt.show()"
   ]
  },
  {
   "cell_type": "markdown",
   "id": "bdd62686",
   "metadata": {},
   "source": [
    "### Calcluating variance according to segmentation"
   ]
  },
  {
   "cell_type": "code",
   "execution_count": null,
   "id": "e26b3b97",
   "metadata": {},
   "outputs": [],
   "source": [
    "seg_bg, seg_fg = [], []"
   ]
  },
  {
   "cell_type": "code",
   "execution_count": null,
   "id": "e8e00358",
   "metadata": {},
   "outputs": [],
   "source": [
    "for img_id in tqdm(img_ids[:10000]):\n",
    "    img_meta_data = coco.loadImgs(ids=[img_id])\n",
    "    file_name = img_meta_data[0]['file_name']\n",
    "\n",
    "    img_path = os.path.join(img_dir_path, file_name)\n",
    "    laplacian = laplacian_img(img_path)\n",
    "\n",
    "    ann_ids = coco.getAnnIds(imgIds=img_id, iscrowd = None)\n",
    "    annotations = coco.loadAnns(ann_ids, )\n",
    "    if not annotations:\n",
    "        continue\n",
    "        \n",
    "    masks = list(map(coco.annToMask, annotations))\n",
    "    final_mask = get_final_mask(masks)\n",
    "    \n",
    "    fg_var_lap, bg_var_lap = get_seg_fg_bg_var_laplacian(laplacian=laplacian, final_mask=final_mask)\n",
    "    \n",
    "    seg_fg.append(fg_var_lap)\n",
    "    seg_bg.append(bg_var_lap)\n",
    "        \n",
    "    "
   ]
  },
  {
   "cell_type": "code",
   "execution_count": null,
   "id": "c9ad74f2",
   "metadata": {},
   "outputs": [],
   "source": [
    "sns.distplot(seg_bg, hist = True, kde = False,\n",
    "             kde_kws = {'linewidth': 3},\n",
    "             label = \"Background\")\n",
    "plt.legend(prop={'size': 16}, title = '')\n",
    "plt.xlabel('Var of Laplacian')\n",
    "plt.ylabel('Counts')\n",
    "plt.show()"
   ]
  },
  {
   "cell_type": "code",
   "execution_count": null,
   "id": "8594fcc0",
   "metadata": {},
   "outputs": [],
   "source": [
    "sns.distplot(seg_fg, hist = True, kde = False,\n",
    "             kde_kws = {'linewidth': 3},\n",
    "             label = \"Foreground\")\n",
    "plt.legend(prop={'size': 16}, title = '')\n",
    "plt.xlabel('Var of Laplacian')\n",
    "plt.ylabel('Counts')\n",
    "plt.show()"
   ]
  },
  {
   "cell_type": "markdown",
   "id": "8d1e7992",
   "metadata": {},
   "source": [
    "## Spectral Analysis"
   ]
  },
  {
   "cell_type": "code",
   "execution_count": null,
   "id": "a5ff30e2",
   "metadata": {},
   "outputs": [],
   "source": [
    "from datasetinsights.stats.image_analysis import get_average_psd_1d"
   ]
  },
  {
   "cell_type": "code",
   "execution_count": null,
   "id": "42400dbc",
   "metadata": {},
   "outputs": [],
   "source": [
    "img_dir_path = \"<img-dir-path>\""
   ]
  },
  {
   "cell_type": "code",
   "execution_count": null,
   "id": "e5955977",
   "metadata": {},
   "outputs": [],
   "source": [
    "avg_psd_1d, std_psd_1d = get_average_psd_1d(img_dir=img_dir_path, img_type=\"jpg\")"
   ]
  },
  {
   "cell_type": "code",
   "execution_count": null,
   "id": "8b02d2f3",
   "metadata": {},
   "outputs": [],
   "source": [
    "fig, ax = plt.subplots(dpi=300)\n",
    "ax.plot(avg_psd_1d_a, color=\"red\", label=\"PSD-A\")\n",
    "ax.plot(avg_psd_1d_b, color=\"blue\", label=\"PSD-B\")\n",
    "ax.set_xscale('log')\n",
    "ax.set_yscale('log')\n",
    "plt.xlim([1, None])"
   ]
  },
  {
   "cell_type": "markdown",
   "id": "5d0ca199",
   "metadata": {},
   "source": [
    "## Wavelet Transform"
   ]
  },
  {
   "cell_type": "code",
   "execution_count": null,
   "id": "36f79a30",
   "metadata": {},
   "outputs": [],
   "source": [
    "from datasetinsights.stats.image_analysis import get_wt_coeffs_var"
   ]
  },
  {
   "cell_type": "code",
   "execution_count": null,
   "id": "2a46ad9b",
   "metadata": {},
   "outputs": [],
   "source": [
    "img_dir_path = \"<img-dir-path>\""
   ]
  },
  {
   "cell_type": "code",
   "execution_count": null,
   "id": "46f99172",
   "metadata": {},
   "outputs": [],
   "source": [
    "horizontal_coeff, vertical_coeff, diagonal_coeff = get_wt_coeffs_var(img_dir_path)\n",
    "#Check for NANs or 0s, if present remove them"
   ]
  },
  {
   "cell_type": "code",
   "execution_count": null,
   "id": "8d8d5079",
   "metadata": {},
   "outputs": [],
   "source": [
    "plt.hist(horizontal_coeff, bins=np.logspace(np.log10(min(horizontal_coeff)), np.log10(max(horizontal_coeff))), label='', alpha=0.5)\n",
    "plt.xscale(\"log\")\n",
    "plt.yscale(\"log\")\n",
    "plt.xlabel(\"Var of cH in Log Scale\")\n",
    "plt.ylabel(\"Count in Log Scale\")\n",
    "plt.legend(loc='best')\n",
    "plt.show()"
   ]
  },
  {
   "cell_type": "markdown",
   "id": "12bd8c5b",
   "metadata": {},
   "source": [
    "### Line Plot"
   ]
  },
  {
   "cell_type": "code",
   "execution_count": null,
   "id": "ccbf0997",
   "metadata": {},
   "outputs": [],
   "source": [
    "hist_a = plt.hist(horizontal_coeff_a, bins=np.logspace(np.log10(max([min(horizontal_coeff_a), np.finfo(float).eps])), np.log10(max(horizontal_coeff_a))), label='PSP-A', alpha=0.5)\n",
    "hist_b = plt.hist(horizontal_coeff_b, bins=np.logspace(np.log10(max([min(horizontal_coeff_b), np.finfo(float).eps])), np.log10(max(horizontal_coeff_b))), label='PSP-B', alpha=0.5)\n"
   ]
  },
  {
   "cell_type": "code",
   "execution_count": null,
   "id": "b047db98",
   "metadata": {},
   "outputs": [],
   "source": [
    "fig, ax = plt.subplots(dpi=100, figsize=(16,9))\n",
    "ax.plot(hist_a[1][1:],hist_a[0], linestyle='-',  label=\"PSP-A\", linewidth=3, color=\"red\")\n",
    "ax.plot(hist_b[1][1:],hist_b[0], linestyle='-',  label=\"PSP-B\", linewidth=3, color=\"blue\")\n",
    "\n",
    "ax.set_xscale('log')\n",
    "ax.minorticks_off()\n",
    "\n",
    "plt.legend(loc=\"upper left\", fontsize=28)\n",
    "plt.xlabel(\"Var of cH in Log Scale\", fontsize=30)\n",
    "plt.ylabel(\"Count\", fontsize=30)\n",
    "plt.xticks(fontsize=25 )\n",
    "plt.yticks(fontsize=25 )\n",
    "\n",
    "#plt.xlim(1/100000, 100000)\n",
    "plt.setp(ax.spines.values(), linewidth=2.5)\n",
    "\n",
    "plt.show()"
   ]
  }
 ],
 "metadata": {
  "kernelspec": {
   "display_name": "Python 3 (ipykernel)",
   "language": "python",
   "name": "python3"
  },
  "language_info": {
   "codemirror_mode": {
    "name": "ipython",
    "version": 3
   },
   "file_extension": ".py",
   "mimetype": "text/x-python",
   "name": "python",
   "nbconvert_exporter": "python",
   "pygments_lexer": "ipython3",
   "version": "3.9.12"
  }
 },
 "nbformat": 4,
 "nbformat_minor": 5
}
