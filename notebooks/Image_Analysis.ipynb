{
 "cells": [
  {
   "cell_type": "markdown",
   "id": "079cea4d",
   "metadata": {},
   "source": [
    "# Image Analysis for datasets"
   ]
  },
  {
   "cell_type": "markdown",
   "id": "5cdaf71f",
   "metadata": {},
   "source": [
    "This example notebook shows how to use datasetinsights to do image analysis on datasets"
   ]
  },
  {
   "cell_type": "markdown",
   "id": "984325b5",
   "metadata": {},
   "source": [
    "## Variance of Laplacian"
   ]
  },
  {
   "cell_type": "code",
   "execution_count": null,
   "id": "1100b1e3",
   "metadata": {},
   "outputs": [],
   "source": [
    "import seaborn as sns\n",
    "import matplotlib.pyplot as plt\n",
    "from tqdm import tqdm\n",
    "import numpy as np\n",
    "import os\n",
    "from pycocotools.coco import COCO\n",
    "from datasetinsights.stats.image_analysis import (\n",
    "    get_bbox_var_laplacian,\n",
    "    get_bbox_fg_bg_var_laplacian,\n",
    "    laplacian_img,\n",
    "    get_final_mask,\n",
    "    get_seg_fg_bg_var_laplacian\n",
    ")"
   ]
  },
  {
   "cell_type": "code",
   "execution_count": null,
   "id": "9717a89a",
   "metadata": {},
   "outputs": [],
   "source": [
    "annotation_file_path = \"<file-path>\"\n",
    "img_dir_path = \"<img-dir-path>\""
   ]
  },
  {
   "cell_type": "code",
   "execution_count": null,
   "id": "198d2215",
   "metadata": {},
   "outputs": [],
   "source": [
    "coco = COCO(annotation_file=annotation_file_path)\n",
    "img_ids = coco.getImgIds(catIds=[1])"
   ]
  },
  {
   "cell_type": "markdown",
   "id": "4f87854e",
   "metadata": {},
   "source": [
    "### Calcluating variance according to bbox"
   ]
  },
  {
   "cell_type": "code",
   "execution_count": null,
   "id": "28b2c9b5",
   "metadata": {},
   "outputs": [],
   "source": [
    "bg_vars, fg_vars = [], []"
   ]
  },
  {
   "cell_type": "code",
   "execution_count": null,
   "id": "cfb2a2dd",
   "metadata": {},
   "outputs": [],
   "source": [
    "for img_id in tqdm(img_ids[:10000]):\n",
    "    img_meta_data = coco.loadImgs(ids=[img_id])\n",
    "    file_name = img_meta_data[0]['file_name']\n",
    "\n",
    "    img_path = os.path.join(img_dir_path, file_name)\n",
    "    laplacian = laplacian_img(img_path)\n",
    "\n",
    "    ann_ids = coco.getAnnIds(imgIds=img_id)\n",
    "    annotations = coco.loadAnns(ann_ids)\n",
    "    bbox_var_lap, img_var_laplacian = get_fg_bg_var_laplacian(laplacian, annotations)\n",
    "\n",
    "    bg_vars.append(img_var_laplacian)\n",
    "    fg_vars.extend(bbox_var_lap)\n",
    "\n"
   ]
  },
  {
   "cell_type": "code",
   "execution_count": null,
   "id": "ad66281e",
   "metadata": {},
   "outputs": [],
   "source": [
    "sns.distplot(bg_vars, hist = True, kde = False,\n",
    "             kde_kws = {'linewidth': 3},\n",
    "             label = \"Background\")\n",
    "plt.legend(prop={'size': 16}, title = '')\n",
    "plt.xlabel('Var of Laplacian')\n",
    "plt.ylabel('Counts')\n",
    "plt.show()"
   ]
  },
  {
   "cell_type": "code",
   "execution_count": null,
   "id": "adfbac6f",
   "metadata": {},
   "outputs": [],
   "source": [
    "sns.distplot(fg_vars, hist = True, kde = False,\n",
    "             kde_kws = {'linewidth': 3},\n",
    "             label = \"Foreground\")\n",
    "plt.legend(prop={'size': 16}, title = '')\n",
    "plt.xlabel('Var of Laplacian')\n",
    "plt.ylabel('Counts')\n",
    "plt.show()"
   ]
  },
  {
   "cell_type": "markdown",
   "id": "bdd62686",
   "metadata": {},
   "source": [
    "### Calcluating variance according to segmentation"
   ]
  },
  {
   "cell_type": "code",
   "execution_count": null,
   "id": "e26b3b97",
   "metadata": {},
   "outputs": [],
   "source": [
    "seg_bg, seg_fg = [], []"
   ]
  },
  {
   "cell_type": "code",
   "execution_count": null,
   "id": "e8e00358",
   "metadata": {},
   "outputs": [],
   "source": [
    "for img_id in tqdm(img_ids[:10000]):\n",
    "    img_meta_data = coco.loadImgs(ids=[img_id])\n",
    "    file_name = img_meta_data[0]['file_name']\n",
    "\n",
    "    img_path = os.path.join(img_dir_path, file_name)\n",
    "    laplacian = laplacian_img(img_path)\n",
    "\n",
    "    ann_ids = coco.getAnnIds(imgIds=img_id, iscrowd = None)\n",
    "    annotations = coco.loadAnns(ann_ids, )\n",
    "    if not annotations:\n",
    "        continue\n",
    "        \n",
    "    masks = list(map(coco.annToMask, annotations))\n",
    "    final_mask = get_final_mask(masks)\n",
    "    \n",
    "    fg_var_lap, bg_var_lap = get_seg_fg_bg_var_laplacian(laplacian=laplacian, final_mask=final_mask)\n",
    "    \n",
    "    seg_fg.append(fg_var_lap)\n",
    "    seg_bg.append(bg_var_lap)\n",
    "        \n",
    "    "
   ]
  },
  {
   "cell_type": "code",
   "execution_count": null,
   "id": "c9ad74f2",
   "metadata": {},
   "outputs": [],
   "source": [
    "sns.distplot(seg_bg, hist = True, kde = False,\n",
    "             kde_kws = {'linewidth': 3},\n",
    "             label = \"Background\")\n",
    "plt.legend(prop={'size': 16}, title = '')\n",
    "plt.xlabel('Var of Laplacian')\n",
    "plt.ylabel('Counts')\n",
    "plt.show()"
   ]
  },
  {
   "cell_type": "code",
   "execution_count": null,
   "id": "8594fcc0",
   "metadata": {},
   "outputs": [],
   "source": [
    "sns.distplot(seg_fg, hist = True, kde = False,\n",
    "             kde_kws = {'linewidth': 3},\n",
    "             label = \"Foreground\")\n",
    "plt.legend(prop={'size': 16}, title = '')\n",
    "plt.xlabel('Var of Laplacian')\n",
    "plt.ylabel('Counts')\n",
    "plt.show()"
   ]
  },
  {
   "cell_type": "markdown",
   "id": "8d1e7992",
   "metadata": {},
   "source": [
    "## Spectral Analysis"
   ]
  },
  {
   "cell_type": "code",
   "execution_count": null,
   "id": "a5ff30e2",
   "metadata": {},
   "outputs": [],
   "source": [
    "from datasetinsights.stats.image_analysis import get_average_psd_1d"
   ]
  },
  {
   "cell_type": "code",
   "execution_count": null,
   "id": "42400dbc",
   "metadata": {},
   "outputs": [],
   "source": [
    "img_dir_path = \"/Users/saurav.dhakad/Downloads/coco_download_img\""
   ]
  },
  {
   "cell_type": "code",
   "execution_count": null,
   "id": "e5955977",
   "metadata": {},
   "outputs": [],
   "source": [
    "avg_psd_1d, std_psd_1d = get_average_psd_1d(img_dir=img_dir_path, img_type=\"jpg\")"
   ]
  },
  {
   "cell_type": "code",
   "execution_count": null,
   "id": "8b02d2f3",
   "metadata": {},
   "outputs": [],
   "source": [
    "fig, ax = plt.subplots(dpi=300)\n",
    "ax.plot(avg_psd_1d, color=\"red\", label=\"PSD\")\n",
    "ax.set_xscale('log')\n",
    "ax.set_yscale('log')\n",
    "plt.xlim([1, None])"
   ]
  }
 ],
 "metadata": {
  "kernelspec": {
   "display_name": "Python 3 (ipykernel)",
   "language": "python",
   "name": "python3"
  },
  "language_info": {
   "codemirror_mode": {
    "name": "ipython",
    "version": 3
   },
   "file_extension": ".py",
   "mimetype": "text/x-python",
   "name": "python",
   "nbconvert_exporter": "python",
   "pygments_lexer": "ipython3",
   "version": "3.8.11"
  }
 },
 "nbformat": 4,
 "nbformat_minor": 5
}
